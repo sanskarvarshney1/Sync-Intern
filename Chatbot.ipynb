{
 "cells": [
  {
   "cell_type": "code",
   "execution_count": null,
   "id": "6822dfff-293e-420d-b17b-3ae861cb2b91",
   "metadata": {},
   "outputs": [],
   "source": [
    "import random\n",
    "responses = {\n",
    "    \"hello\": \"Hello! How can I assist you?\",\n",
    "    \"how are you\": \"I'm doing well, thank you!\",\n",
    "    \"what's your name\": \"I am a simple chatbot.\",\n",
    "    \"bye\": \"Goodbye! Have a great day!\",\n",
    "}\n",
    "\n",
    "def get_response(user_input):\n",
    "    \"\"\"\n",
    "    Get the chatbot's response based on user input.\n",
    "    \"\"\"\n",
    "    user_input = user_input.lower()\n",
    "    for key in responses:\n",
    "        if key in user_input:\n",
    "            return responses[key]\n",
    "    return \"I'm sorry, I don't understand that. Can you please try something else?\"\n",
    "\n",
    "def main():\n",
    "    \"\"\"\n",
    "    Main function to run the chatbot.\n",
    "    \"\"\"\n",
    "    print(\"Chatbot: Hi there! I'm a simple chatbot. You can start a conversation with me.\")\n",
    "    print(\"Chatbot: Type 'bye' to exit the conversation.\")\n",
    "    \n",
    "    while True:\n",
    "        user_input = input(\"You: \")\n",
    "        if user_input.lower() == \"bye\":\n",
    "            print(\"Chatbot: Goodbye! Have a great day!\")\n",
    "            break\n",
    "        else:\n",
    "            response = get_response(user_input)\n",
    "            print(\"Chatbot:\", response)\n",
    "\n",
    "if __name__ == \"__main__\":\n",
    "    main()"
   ]
  }
 ],
 "metadata": {
  "kernelspec": {
   "display_name": "Python 3 (ipykernel)",
   "language": "python",
   "name": "python3"
  },
  "language_info": {
   "codemirror_mode": {
    "name": "ipython",
    "version": 3
   },
   "file_extension": ".py",
   "mimetype": "text/x-python",
   "name": "python",
   "nbconvert_exporter": "python",
   "pygments_lexer": "ipython3",
   "version": "3.10.8"
  }
 },
 "nbformat": 4,
 "nbformat_minor": 5
}
